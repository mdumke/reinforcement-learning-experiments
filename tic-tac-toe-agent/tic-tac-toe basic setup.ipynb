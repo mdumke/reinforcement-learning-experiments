{
 "cells": [
  {
   "cell_type": "code",
   "execution_count": 22,
   "metadata": {},
   "outputs": [],
   "source": [
    "%reload_ext autoreload\n",
    "%autoreload 2"
   ]
  },
  {
   "cell_type": "code",
   "execution_count": 289,
   "metadata": {},
   "outputs": [],
   "source": [
    "import numpy as np\n",
    "from IPython.display import clear_output\n",
    "import matplotlib.pyplot as plt\n",
    "\n",
    "from board import Board\n",
    "from players import *\n",
    "from game import Game"
   ]
  },
  {
   "cell_type": "code",
   "execution_count": 343,
   "metadata": {},
   "outputs": [],
   "source": [
    "player1 = PlayerEpsilonGreedy(1, 0.1)\n",
    "player2 = PlayerEpsilonGreedy(2, 0.1)\n",
    "\n",
    "#player1 = PlayerRandom(1)\n",
    "#player2 = PlayerRandom(2)"
   ]
  },
  {
   "cell_type": "code",
   "execution_count": 344,
   "metadata": {},
   "outputs": [],
   "source": [
    "game = Game(player1, player2)"
   ]
  },
  {
   "cell_type": "code",
   "execution_count": 365,
   "metadata": {},
   "outputs": [],
   "source": [
    "player1.epsilon = 0.1\n",
    "player2.epsilon = 0.1"
   ]
  },
  {
   "cell_type": "code",
   "execution_count": 366,
   "metadata": {},
   "outputs": [
    {
     "name": "stdout",
     "output_type": "stream",
     "text": [
      "0\n",
      "5000\n"
     ]
    }
   ],
   "source": [
    "num_epochs = 10000\n",
    "\n",
    "winners = game.train_players(num_epochs)"
   ]
  },
  {
   "cell_type": "code",
   "execution_count": 367,
   "metadata": {},
   "outputs": [
    {
     "data": {
      "text/plain": [
       "<matplotlib.collections.PathCollection at 0x7f4138f01198>"
      ]
     },
     "execution_count": 367,
     "metadata": {},
     "output_type": "execute_result"
    },
    {
     "data": {
      "image/png": "[encoded data removed]",
      "text/plain": [
       "<matplotlib.figure.Figure at 0x7f413901f780>"
      ]
     },
     "metadata": {},
     "output_type": "display_data"
    }
   ],
   "source": [
    "plt.scatter(np.linspace(0, 100, 100), winners[-100:])"
   ]
  },
  {
   "cell_type": "code",
   "execution_count": 368,
   "metadata": {},
   "outputs": [
    {
     "data": {
      "text/plain": [
       "(array([ 1574.,     0.,     0.,     0.,     0.,  7288.,     0.,     0.,\n",
       "            0.,  1138.]),\n",
       " array([ 0. ,  0.2,  0.4,  0.6,  0.8,  1. ,  1.2,  1.4,  1.6,  1.8,  2. ]),\n",
       " <a list of 10 Patch objects>)"
      ]
     },
     "execution_count": 368,
     "metadata": {},
     "output_type": "execute_result"
    },
    {
     "data": {
      "image/png": "[encoded data removed]",
      "text/plain": [
       "<matplotlib.figure.Figure at 0x7f413901fbe0>"
      ]
     },
     "metadata": {},
     "output_type": "display_data"
    }
   ],
   "source": [
    "plt.hist(winners)"
   ]
  },
  {
   "cell_type": "code",
   "execution_count": 356,
   "metadata": {},
   "outputs": [
    {
     "name": "stdout",
     "output_type": "stream",
     "text": [
      "\n",
      " 0 0 0\n",
      " 0 0 0\n",
      " 0 0 0\n",
      "\n",
      "place a 1 at `i, j`: 0,2\n",
      "\n",
      " 0 0 1\n",
      " 0 0 0\n",
      " 0 0 0\n",
      "\n",
      "\n",
      " 0 0 1\n",
      " 0-1 0\n",
      " 0 0 0\n",
      "\n",
      "place a 1 at `i, j`: 0,0\n",
      "\n",
      " 1 0 1\n",
      " 0-1 0\n",
      " 0 0 0\n",
      "\n",
      "\n",
      " 1-1 1\n",
      " 0-1 0\n",
      " 0 0 0\n",
      "\n",
      "place a 1 at `i, j`: 2,1\n",
      "\n",
      " 1-1 1\n",
      " 0-1 0\n",
      " 0 1 0\n",
      "\n",
      "\n",
      " 1-1 1\n",
      "-1-1 0\n",
      " 0 1 0\n",
      "\n",
      "place a 1 at `i, j`: 2,0\n",
      "\n",
      " 1-1 1\n",
      "-1-1 0\n",
      " 1 1 0\n",
      "\n",
      "Player 2 won!\n"
     ]
    }
   ],
   "source": [
    "live_game = Game(PlayerManual(1), player2)\n",
    "live_game.play()"
   ]
  },
  {
   "cell_type": "code",
   "execution_count": null,
   "metadata": {},
   "outputs": [],
   "source": []
  }
 ],
 "metadata": {
  "kernelspec": {
   "display_name": "Python 3",
   "language": "python",
   "name": "python3"
  },
  "language_info": {
   "codemirror_mode": {
    "name": "ipython",
    "version": 3
   },
   "file_extension": ".py",
   "mimetype": "text/x-python",
   "name": "python",
   "nbconvert_exporter": "python",
   "pygments_lexer": "ipython3",
   "version": "3.6.1"
  }
 },
 "nbformat": 4,
 "nbformat_minor": 2
}
